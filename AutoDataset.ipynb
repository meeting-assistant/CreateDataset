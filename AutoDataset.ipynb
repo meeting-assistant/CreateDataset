{
  "nbformat": 4,
  "nbformat_minor": 0,
  "metadata": {
    "colab": {
      "provenance": []
    },
    "kernelspec": {
      "name": "python3",
      "display_name": "Python 3"
    },
    "language_info": {
      "name": "python"
    }
  },
  "cells": [
    {
      "cell_type": "code",
      "source": [
        "!pip install python-dotenv==1.0.0\n",
        "!pip install openai"
      ],
      "metadata": {
        "id": "CvBloHfWil4Q"
      },
      "execution_count": null,
      "outputs": []
    },
    {
      "cell_type": "code",
      "execution_count": 4,
      "metadata": {
        "id": "Ej1nZEhweiYD"
      },
      "outputs": [],
      "source": [
        "from openai import OpenAI\n",
        "from dotenv import load_dotenv, find_dotenv\n",
        "import os"
      ]
    },
    {
      "cell_type": "code",
      "source": [
        "_ = load_dotenv(find_dotenv())"
      ],
      "metadata": {
        "id": "fGM30Rv5s2FN"
      },
      "execution_count": 21,
      "outputs": []
    },
    {
      "cell_type": "code",
      "source": [
        "#os.environ.get(\"OPENAI_API_KEY\")"
      ],
      "metadata": {
        "id": "CedAk9OX8fhe"
      },
      "execution_count": null,
      "outputs": []
    },
    {
      "cell_type": "code",
      "source": [
        "client = OpenAI()"
      ],
      "metadata": {
        "id": "Oi2NYb517VAX"
      },
      "execution_count": 22,
      "outputs": []
    },
    {
      "cell_type": "code",
      "source": [
        "client.api_key = os.environ.get(\"OPENAI_API_KEY\")"
      ],
      "metadata": {
        "id": "eXOxza-yCyhV"
      },
      "execution_count": 23,
      "outputs": []
    },
    {
      "cell_type": "code",
      "source": [
        "model_4 = \"gpt-4-0125-preview\"\n",
        "model_3 = \"gpt-3.5-turbo-16k\""
      ],
      "metadata": {
        "id": "3QR8wQilDbLF"
      },
      "execution_count": 24,
      "outputs": []
    },
    {
      "cell_type": "code",
      "source": [
        "# Папка с текстовыми файлами для перевода\n",
        "input_dir = './input_directory/'"
      ],
      "metadata": {
        "id": "AumjoiUUlvHf"
      },
      "execution_count": 25,
      "outputs": []
    },
    {
      "cell_type": "code",
      "source": [
        "# Функция для чтения текстовых файлов и запись в массив\n",
        "def read_files(directory):\n",
        "\n",
        "  texts = []\n",
        "\n",
        "  for filename in os.listdir(directory):\n",
        "    if filename.endswith('.txt'):\n",
        "      with open(os.path.join(directory, filename), 'r', encoding='utf-8') as file:\n",
        "        texts.append(file.read())\n",
        "\n",
        "  return texts"
      ],
      "metadata": {
        "id": "FFzwW8LzrR7i"
      },
      "execution_count": 27,
      "outputs": []
    },
    {
      "cell_type": "code",
      "source": [
        "# Функция для записи текста в файлы в новой директории\n",
        "def write_files(texts, list_files, language):\n",
        "\n",
        "  dir_output = './output_directory/'\n",
        "\n",
        "  if not os.path.exists(dir_output):\n",
        "    os.makedirs(dir_output)\n",
        "\n",
        "  for i, text in enumerate(texts):\n",
        "    with open(os.path.join(dir_output, f'{language} - {list_files[i]}'), 'w', encoding='utf-8') as file:\n",
        "      file.write(text)"
      ],
      "metadata": {
        "id": "xGMgHx5Stfez"
      },
      "execution_count": 38,
      "outputs": []
    },
    {
      "cell_type": "code",
      "source": [
        "# Функция для перевода на русский язык\n",
        "def translate_to_russian(texts: list, model=model_3) -> list:\n",
        "\n",
        "  system_prompt_to_russian = \"Translate the following Polish text into Russian:\\nPolish:\\nRussian:\"\n",
        "\n",
        "  lst_russian = []\n",
        "\n",
        "  for text in texts:\n",
        "\n",
        "    response = client.chat.completions.create(\n",
        "        model=model,\n",
        "        seed=1234,\n",
        "        temperature=0,\n",
        "        messages=[\n",
        "            {\"role\": \"system\", \"content\": system_prompt_to_russian},\n",
        "            {\"role\": \"user\", \"content\": text},\n",
        "        ],\n",
        "    )\n",
        "\n",
        "    lst_russian.append(response.choices[0].message.content)\n",
        "\n",
        "  return lst_russian"
      ],
      "metadata": {
        "id": "KnxMIdBWqEQF"
      },
      "execution_count": 30,
      "outputs": []
    },
    {
      "cell_type": "code",
      "source": [
        "# Функция для перевода на Польский язык - PL и обратно\n",
        "def translate_to_polish(input_dir: str, model=model_3):\n",
        "\n",
        "  # Список файлов в этой папке\n",
        "  list_files = os.listdir(input_dir)\n",
        "\n",
        "  # Получим список текстов из файла\n",
        "  texts = read_files(input_dir)\n",
        "\n",
        "  # Промпты\n",
        "  system_prompt_to_polish = \"Translate the following Russian text into Polish:\\nRussian: \\nPolish:\"\n",
        "  system_prompt_to_russian = \"Translate the following Polish text into Russian:\\nPolish:\\nRussian:\"\n",
        "\n",
        "  # Здесь будут хранится переводы\n",
        "  lst_polish = []\n",
        "  lst_russian = []\n",
        "\n",
        "  # Перевод всех текстов на польский и запись в массив\n",
        "  for text in texts:\n",
        "\n",
        "    response = client.chat.completions.create(\n",
        "        model=model,\n",
        "        seed=1234,\n",
        "        temperature=0,\n",
        "        messages=[\n",
        "            {\"role\": \"system\", \"content\": system_prompt_to_polish},\n",
        "            {\"role\": \"user\", \"content\": text},\n",
        "        ],\n",
        "    )\n",
        "\n",
        "    lst_polish.append(response.choices[0].message.content)\n",
        "\n",
        "\n",
        "  # Перевод всех текстов на русский и запись в массив\n",
        "  lst_russian = translate_to_russian(lst_polish)\n",
        "\n",
        "  language = 'PL'\n",
        "\n",
        "  # Создание папки и файлов c переводом\n",
        "  write_files(lst_russian, list_files, language)"
      ],
      "metadata": {
        "id": "a2O0nbaXmy-w"
      },
      "execution_count": 45,
      "outputs": []
    },
    {
      "cell_type": "code",
      "source": [
        "# Функция для перевода на Японский язык - JP и обратно\n",
        "def translate_to_japanese(input_dir: str, model=model_3):\n",
        "\n",
        "  # Список файлов в этой папке\n",
        "  list_files = os.listdir(input_dir)\n",
        "\n",
        "  # Получим список текстов из файла\n",
        "  texts = read_files(input_dir)\n",
        "\n",
        "  # Промпты\n",
        "  system_prompt_to_japanese = \"Translate the following Russian text into Japanese:\\nRussian: \\Japanese:\"\n",
        "  system_prompt_to_russian = \"Translate the following Polish text into Russian:\\nPolish:\\nRussian:\"\n",
        "\n",
        "  # Здесь будут хранится переводы\n",
        "  lst_japanese = []\n",
        "  lst_russian = []\n",
        "\n",
        "  # Перевод всех текстов на польский и запись в массив\n",
        "  for text in texts:\n",
        "\n",
        "    response = client.chat.completions.create(\n",
        "        model=model,\n",
        "        seed=1234,\n",
        "        temperature=0,\n",
        "        messages=[\n",
        "            {\"role\": \"system\", \"content\": system_prompt_to_japanese},\n",
        "            {\"role\": \"user\", \"content\": text},\n",
        "        ],\n",
        "    )\n",
        "\n",
        "    lst_japanese.append(response.choices[0].message.content)\n",
        "\n",
        "\n",
        "  # Перевод всех текстов на русский и запись в массив\n",
        "  lst_russian = translate_to_russian(lst_japanese)\n",
        "\n",
        "  language = 'JP'\n",
        "\n",
        "  # Создание папки и файлов c переводом\n",
        "  write_files(lst_russian, list_files, language)"
      ],
      "metadata": {
        "id": "a3aq4AfnvOCM"
      },
      "execution_count": 46,
      "outputs": []
    },
    {
      "cell_type": "code",
      "source": [
        "# Пример работы с польского\n",
        "translate_to_polish(input_dir)"
      ],
      "metadata": {
        "id": "P1_W7mCemzB3"
      },
      "execution_count": 41,
      "outputs": []
    },
    {
      "cell_type": "code",
      "source": [
        "# Пример работы с японского\n",
        "translate_to_japanese(input_dir)"
      ],
      "metadata": {
        "id": "WO9P3MeomzFx"
      },
      "execution_count": 47,
      "outputs": []
    }
  ]
}