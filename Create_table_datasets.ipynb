{
  "nbformat": 4,
  "nbformat_minor": 0,
  "metadata": {
    "colab": {
      "provenance": []
    },
    "kernelspec": {
      "name": "python3",
      "display_name": "Python 3"
    },
    "language_info": {
      "name": "python"
    }
  },
  "cells": [
    {
      "cell_type": "code",
      "execution_count": null,
      "metadata": {
        "id": "VkbvtMwds9Na"
      },
      "outputs": [],
      "source": [
        "import os\n",
        "import re\n",
        "import pandas as pd"
      ]
    },
    {
      "cell_type": "code",
      "source": [
        "# Функция для чтения текстовых файлов и запись в массив\n",
        "\n",
        "def read_files(directory):\n",
        "  texts = []\n",
        "\n",
        "  for filename in os.listdir(directory):\n",
        "    if filename.endswith('.txt'):\n",
        "      with open(os.path.join(directory, filename), 'r', encoding='utf-8') as file:\n",
        "        texts.append(file.read())\n",
        "\n",
        "  return texts"
      ],
      "metadata": {
        "id": "3zfcj2lrtIh3"
      },
      "execution_count": null,
      "outputs": []
    },
    {
      "cell_type": "code",
      "source": [
        "# Функция редактирование файлов. Убирает спикеров\n",
        "\n",
        "def del_speakers(lst_files: list) -> list:\n",
        "  list_del_speakers = []\n",
        "  pattern = r'(S|s)(P|p).?[0-5]\\s?:*\\s?'\n",
        "  pattern_2 = r'\\n'\n",
        "\n",
        "  for text in lst_files:\n",
        "    text = re.sub(pattern, '', ''.join(text))\n",
        "    text = re.sub(pattern_2, '', text)\n",
        "    list_del_speakers.append(text)\n",
        "\n",
        "  return list_del_speakers"
      ],
      "metadata": {
        "id": "DzyacxiHtJ-O"
      },
      "execution_count": null,
      "outputs": []
    },
    {
      "cell_type": "code",
      "source": [
        "# Функция для создания списков с данными из файлов .txt\n",
        "def create_data_list(path, dir):\n",
        "\n",
        "  list_annotated = os.listdir(f'{path}{dir}/annotated/')      # Список с названиями файлов, нужно для колонки name\n",
        "  annotated_speaker =  read_files(f'{path}{dir}/annotated/')  # Список текстов из папки annotated\n",
        "  annotated_not_speaker = del_speakers(annotated_speaker)     # Список без спикеров из папки annotated\n",
        "\n",
        "  task_speaker = read_files(f'{path}{dir}/task/')             # Список текстов из папки task\n",
        "  task_not_speaker = del_speakers(task_speaker)               # Список без спикеров из папки task\n",
        "\n",
        "  return list_annotated, annotated_speaker, annotated_not_speaker, task_speaker, task_not_speaker"
      ],
      "metadata": {
        "id": "v2iDyaLCZ5zj"
      },
      "execution_count": null,
      "outputs": []
    },
    {
      "cell_type": "code",
      "source": [
        "# Функция которая создает три pandas таблицы: real, syntatic, translate\n",
        "\n",
        "def create_table(path):\n",
        "\n",
        "  list_path = os.listdir(path)\n",
        "\n",
        "  df_real= pd.DataFrame(columns=['annotated_speaker',\n",
        "                           'annotated_not_speaker',\n",
        "                           'task_spearker',\n",
        "                           'task_not_speaker',\n",
        "                           'type'\n",
        "                           'name'])\n",
        "\n",
        "  df_syntatic= pd.DataFrame(columns=['annotated_speaker',\n",
        "                            'annotated_not_speaker',\n",
        "                            'task_spearker',\n",
        "                            'task_not_speaker',\n",
        "                            'type'\n",
        "                            'name'])\n",
        "\n",
        "  df_translate= pd.DataFrame(columns=['annotated_speaker',\n",
        "                            'annotated_not_speaker',\n",
        "                            'task_spearker',\n",
        "                            'task_not_speaker',\n",
        "                            'type'\n",
        "                            'name'])\n",
        "\n",
        "  for dir in list_path:\n",
        "    # Если это папка real\n",
        "    if dir == 'real':\n",
        "\n",
        "      list_annotated, annotated_speaker, annotated_not_speaker, task_speaker, task_not_speaker = create_data_list(path, dir)\n",
        "\n",
        "      # Создайте пустой список для хранения строк DataFrame\n",
        "      data_rows = []\n",
        "\n",
        "      for i in range(len(annotated_speaker)):\n",
        "        row = {'annotated_speaker': annotated_speaker[i],\n",
        "                'annotated_not_speaker': annotated_not_speaker[i],\n",
        "                'task_speaker': task_speaker[i],\n",
        "                'task_not_speaker': task_not_speaker[i],\n",
        "                'type': 'real',\n",
        "                'name': list_annotated[i][:-14]}\n",
        "        data_rows.append(row)\n",
        "\n",
        "      # Создайте DataFrame, используя pandas.concat\n",
        "      df_real = pd.concat([pd.DataFrame(data_rows)], ignore_index=True)\n",
        "\n",
        "\n",
        "\n",
        "    # Если это папка syntatic\n",
        "    elif dir == 'syntatic':\n",
        "\n",
        "      list_annotated, annotated_speaker, annotated_not_speaker, task_speaker, task_not_speaker = create_data_list(path, dir)\n",
        "\n",
        "      # Создайте пустой список для хранения строк DataFrame\n",
        "      data_rows = []\n",
        "\n",
        "      for i in range(len(annotated_speaker)):\n",
        "        row = {'annotated_speaker': annotated_speaker[i],\n",
        "                'annotated_not_speaker': annotated_not_speaker[i],\n",
        "                'task_speaker': task_speaker[i],\n",
        "                'task_not_speaker': task_not_speaker[i],\n",
        "                'type': 'syntatic',\n",
        "                'name': list_annotated[i][:-14]}\n",
        "        data_rows.append(row)\n",
        "\n",
        "      # Создайте DataFrame, используя pandas.concat\n",
        "      df_syntatic = pd.concat([pd.DataFrame(data_rows)], ignore_index=True)\n",
        "\n",
        "\n",
        "    # Если это папка с подпапками\n",
        "    if dir == 'translate':\n",
        "\n",
        "      list_subdirs = os.listdir(os.path.join(path, dir))    # ['translated_PL', 'translated_JP']\n",
        "\n",
        "      for subdir in list_subdirs:\n",
        "\n",
        "        join_subdir = f'{dir}/{subdir}/'\n",
        "        list_annotated, annotated_speaker, annotated_not_speaker, task_speaker, task_not_speaker = create_data_list(path, join_subdir)\n",
        "        data_rows = []\n",
        "\n",
        "        for i in range(len(annotated_speaker)):\n",
        "          row = {'annotated_speaker': annotated_speaker[i],\n",
        "                  'annotated_not_speaker': annotated_not_speaker[i],\n",
        "                  'task_speaker': task_speaker[i],\n",
        "                  'task_not_speaker': task_not_speaker[i],\n",
        "                  'type': 'translate',\n",
        "                  'name': list_annotated[i][:-17]}\n",
        "          data_rows.append(row)\n",
        "\n",
        "        # Проверьте, пустая ли таблица df\n",
        "        if df_translate.empty:\n",
        "            # Если она пустая\n",
        "            df_translate = pd.DataFrame(data_rows)\n",
        "        else:\n",
        "            # Если таблица уже содержит данные\n",
        "            df_translate = pd.concat([df_translate, pd.DataFrame(data_rows)], ignore_index=True)\n",
        "\n",
        "  return df_real, df_syntatic, df_translate"
      ],
      "metadata": {
        "id": "xgtPOZdKEvBA"
      },
      "execution_count": null,
      "outputs": []
    },
    {
      "cell_type": "code",
      "source": [
        "# Путь к папке где лежат папки: real, syntatic, translate\n",
        "path = './Datasets/'"
      ],
      "metadata": {
        "id": "vrKuCQkEtnUy"
      },
      "execution_count": null,
      "outputs": []
    },
    {
      "cell_type": "code",
      "source": [
        "# Создаем три pandas таблицы с данными\n",
        "df_real, df_syntatic, df_translate = create_table(path)"
      ],
      "metadata": {
        "id": "C-MMnB_Rt3fC"
      },
      "execution_count": null,
      "outputs": []
    },
    {
      "cell_type": "code",
      "source": [
        "# Объединение DataFrame по столбцам\n",
        "result_df = pd.concat([df_real, df_syntatic, df_translate], axis=0)"
      ],
      "metadata": {
        "id": "aevCulpdt-Da"
      },
      "execution_count": null,
      "outputs": []
    },
    {
      "cell_type": "code",
      "source": [
        "# Сохранение DataFrame в формате .csv\n",
        "df_real.to_csv('df_real.csv', index=False, encoding='utf-8-sig')\n",
        "df_syntatic.to_csv('df_syntatic.csv', index=False, encoding='utf-8-sig')\n",
        "df_translate.to_csv('df_translate.csv', index=False, encoding='utf-8-sig')\n",
        "result_df.to_csv('df_total.csv', index=False, encoding='utf-8-sig')\n",
        "\n",
        "# Сохранение DataFrame в формате .xlsx\n",
        "df_real.to_excel('df_real.xlsx', index=False)\n",
        "df_syntatic.to_excel('df_syntatic.xlsx', index=False)\n",
        "df_translate.to_excel('df_translate.xlsx', index=False)\n",
        "result_df.to_excel('df_total.xlsx', index=False)"
      ],
      "metadata": {
        "id": "GLYdXN76uOGZ"
      },
      "execution_count": null,
      "outputs": []
    }
  ]
}